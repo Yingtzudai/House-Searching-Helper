{
 "cells": [
  {
   "cell_type": "code",
   "execution_count": 2,
   "metadata": {},
   "outputs": [],
   "source": [
    "import pyspark\n",
    "import mysql.connector"
   ]
  },
  {
   "cell_type": "code",
   "execution_count": 3,
   "metadata": {},
   "outputs": [],
   "source": [
    "\n",
    "# Connection setup\n",
    "connection = mysql.connector.connect(\n",
    "    host=\"localhost\",\n",
    "    user=\"root\",\n",
    "    password=\"1234\",\n",
    "    database=\"house\"\n",
    ")\n",
    "\n",
    "cursor = connection.cursor()"
   ]
  },
  {
   "cell_type": "code",
   "execution_count": 5,
   "metadata": {},
   "outputs": [
    {
     "name": "stdout",
     "output_type": "stream",
     "text": [
      "house\n",
      "('address', 'varchar(255)', 'YES', '', None, '')\n",
      "('agent_name', 'text', 'YES', '', None, '')\n",
      "('agent_url', 'varchar(255)', 'YES', '', None, '')\n",
      "('available', 'varchar(255)', 'YES', '', None, '')\n",
      "('balcony', 'text', 'YES', '', None, '')\n",
      "('construction_type', 'text', 'YES', '', None, '')\n",
      "('deposit', 'decimal(10,0)', 'YES', '', None, '')\n",
      "('description', 'text', 'YES', '', None, '')\n",
      "('duration', 'varchar(255)', 'YES', '', None, '')\n",
      "('dwelling_type', 'text', 'YES', '', None, '')\n",
      "('energy_rating', 'varchar(255)', 'YES', '', None, '')\n",
      "('garden', 'text', 'YES', '', None, '')\n",
      "('house_name', 'text', 'YES', '', None, '')\n",
      "('house_url', 'varchar(255)', 'NO', 'PRI', None, '')\n",
      "('interior', 'text', 'YES', '', None, '')\n",
      "('living_area_m2', 'decimal(10,0)', 'YES', '', None, '')\n",
      "('number_of_bathrooms', 'int', 'YES', '', None, '')\n",
      "('number_of_bedrooms', 'int', 'YES', '', None, '')\n",
      "('number_of_rooms', 'int', 'YES', '', None, '')\n",
      "('offered_since', 'varchar(255)', 'YES', '', None, '')\n",
      "('pets_allowed', 'text', 'YES', '', None, '')\n",
      "('price', 'decimal(10,0)', 'YES', '', None, '')\n",
      "('property_type', 'text', 'YES', '', None, '')\n",
      "('rental_agreement', 'text', 'YES', '', None, '')\n",
      "('service_cost', 'text', 'YES', '', None, '')\n",
      "('smoking_allowed', 'text', 'YES', '', None, '')\n",
      "('status', 'text', 'YES', '', None, '')\n",
      "('year_of_construction', 'int', 'YES', '', None, '')\n"
     ]
    }
   ],
   "source": [
    "cursor.execute(\"SHOW TABLES\")\n",
    "tables = cursor.fetchall()\n",
    "for table in tables:\n",
    "    print(table[0])\n",
    "\n",
    "table_name = \"house\"\n",
    "cursor.execute(f\"DESCRIBE {table_name}\")\n",
    "columns = cursor.fetchall()\n",
    "for column in columns:\n",
    "    print(column)"
   ]
  },
  {
   "cell_type": "code",
   "execution_count": 6,
   "metadata": {},
   "outputs": [
    {
     "name": "stdout",
     "output_type": "stream",
     "text": [
      "('1811 LD (Binnenstad-West)', 'Regio Holland Amsterdam', 'https://www.pararius.com/real-estate-agents/amsterdam/regio-holland-amsterdam', None, 'Not present', 'Existing building', None, 'Description \\n\\n                                                         Gross floor area of this apartment is 62 m²! \\nLiving comfortably in a building with history, is that possible? Definitely, and in the city heart of Alkmaar too! \\n The Hof van Sonoy is a courtyard in the city center of Alkmaar. The building but also the location has a rich history. We can offer you a beautiful new recently renovated apartment in this courtyard, which used to be the Sint Maria Magdalena monastery. \\n Layout Hof van Sonoy 16: \\nGround floor apartment with mezzanine. Entrance on the ground floor, living room with open kitchen equipped with fridge with freezer compartment, combi oven, induction hob with extractor hood and a (small) dishwasher, bathroom with walk-in shower and sink, separate toilet, and in the deep stair cupboard there is a washing machine connection. \\nThe stairs in the living room go to the mezzanine where you can create a nice bedroom across the entire width. \\nA spacious floor area but very low ceiling at 1.51m. \\n This apartment is available immediately with a minimum rental period of 2 years. \\nRent is € 845,-- per month (including surcharge for upholstery) \\nService costs € 20,-- per month \\nAdvance water € 20,--, and advance energy (gas and electricity) € 150,-- per month \\nTotal rent: € 1.035,-- per month excluding municipal taxes \\n The characteristic elements of the space have been respected and this is optimally reflected in combination with a high-quality finish. The apartments in the Hof van Sonoy thus retain their charm. \\nA wonderful place has certainly been created to live and enjoy everything that Alkmaar has to offer. The apartments are centrally located in the city center of Alkmaar with all shops and restaurants within walking distance, as well as theater De Vest, the cozy market on Saturday and the Central Station. \\n Special features: \\n \\n Rent € 845,-- per month; \\n Service costs: € 20,-- per month; \\n Available immediately;  \\n Income requirement: the gross monthly income must be 3.5 times the gross monthly rent; \\n Deposit: 2 months basic rent; \\n One-time mutation costs of € 250,-- that the tenant must pay to the landlord; \\n Minimum rental period 2 years, then indefinite; \\n No house sharers; \\n Pets are not allowed; \\n With flooring and window coverings;', None, 'Flat', 'E', 'Not present', 'For rent: Flat Hof van Sonoy 16 in Alkmaar', 'https://www.pararius.com/apartment-for-rent/alkmaar/2a0e7630/hof-van-sonoy', 'Upholstered', Decimal('42'), 1, 1, 2, '28-11-2024', None, Decimal('845'), 'Downstairs apartment', None, 'Excludes: Service costs', None, 'For rent', 1979)\n",
      "('1814 GA (Emmakwartier)', 'Wolf Rentals', 'https://www.pararius.com/real-estate-agents/haarlem/wolf-rentals', '05-12-2024', 'Not present', 'Existing building', None, 'Description \\n\\n                                                         Short stay apartments available; \\n Living at the edge of the city of Alkmaar in a brand new renovated monumental building near arterial roads, Alkmaar centre, trains to Amsterdam. The maximum stay is 6 (six) months. Please do not hesitate to contact us via e-mail. Our team will be happy to help you discuss the possibilities. \\n The pictures are random picutres from the apartments. \\n Layout per apartment: \\n Living area \\nA comfortable sitting and dining area. The style of the living area may vary slightly from one unit to another. The living area includes a sofa bed, TV, dining table with chairs, curtains etc etc. \\n Kitchen- \\nthe kitchen is fully equipped including a dishwasher, fridge freezer, electric cooker, combi microwave and oven, coffee machine and kettle, in addition to pots and pans, plates, glasses and cutlery. \\n Washer and dryer \\nThere is a washing machine/dryer combination in the apartment. \\n Smoking \\nall studios are non-smoking. Smoking is only allowed in the allocated locations. \\n Pets \\nPets are not allowed. \\n Details: \\n - central location \\n- near train station \\n- available for maximum 6 months \\n- maximum 2 persons (families for the 3 bedroom apartments) \\n- near city centre \\n- available per 1st of December 2024 \\n- deposit 1 month', 'Minimum of 1 months', 'Flat', 'A', 'Not present', 'For rent: Flat Kennemerstraatweg 21 L in Alkmaar', 'https://www.pararius.com/apartment-for-rent/alkmaar/44068589/kennemerstraatweg', 'Furnished', Decimal('40'), 1, 1, 2, '26-11-2024', None, Decimal('1200'), 'Downstairs apartment, Apartment', None, 'Includes: Electricity, Gas, Water', None, 'For rent', 2024)\n",
      "('1814 GA (Nassaukwartier en Hout)', 'Wolf Rentals', 'https://www.pararius.com/real-estate-agents/haarlem/wolf-rentals', '05-12-2024', 'Not present', 'Existing building', None, 'Description \\n\\n                                                         Short stay apartments available; \\n Living at the edge of the city of Alkmaar in a brand new renovated monumental building near arterial roads, Alkmaar centre, trains to Amsterdam. The maximum stay is 6 (six) months. Please do not hesitate to contact us via e-mail. Our team will be happy to help you discuss the possibilities. \\n The pictures are random picutres from the apartments. \\n Layout per apartment: \\n Living area \\nA comfortable sitting and dining area. The style of the living area may vary slightly from one unit to another. The living area includes a sofa bed, TV, dining table with chairs, curtains etc etc. \\n Kitchen- \\nthe kitchen is fully equipped including a dishwasher, fridge freezer, electric cooker, combi microwave and oven, coffee machine and kettle, in addition to pots and pans, plates, glasses and cutlery. \\n Washer and dryer \\nThere is a washing machine/dryer combination in the apartment. \\n Smoking \\nall studios are non-smoking. Smoking is only allowed in the allocated locations. \\n Pets \\nPets are not allowed. \\n Details: \\n - central location \\n- near train station \\n- available for maximum 6 months \\n- maximum 2 persons (families for the 3 bedroom apartments) \\n- near city centre \\n- available per 1st of December 2024 \\n- deposit 1 month', 'Minimum of 1 months', 'Flat', 'A', 'Not present', 'For rent: Flat Kennemerstraatweg 21 H in Alkmaar', 'https://www.pararius.com/apartment-for-rent/alkmaar/6a427319/kennemerstraatweg', 'Upholstered or furnished', Decimal('76'), 1, 3, 4, '05-12-2024', None, Decimal('1700'), 'Upstairs apartment, Apartment', 'Temporary rental', 'Includes: Electricity, Gas, Water', None, 'For rent', 2024)\n",
      "('1816 NP (De Hoef III en IV)', 'Regio Holland Amsterdam', 'https://www.pararius.com/real-estate-agents/amsterdam/regio-holland-amsterdam', None, 'Not present', 'Existing building', None, 'Description \\n\\n                                                         English: \\n Spacious three-room apartment of 88m² with a lovely private roof terrace on the South of 14m². \\nThrough a communal entrance, you go via the stairwell to the apartment on the 1st floor. There is a large health practice on the ground floor, and a second apartment is located on the 2nd floor. \\n Layout apartment: \\nEntrance, large living room with open kitchen with large fridge, freezer, gas stove with extractor hood, combi oven and dishwasher. The large windows provide plenty of daylight, and also plenty of ventilation options. The two spacious bedrooms, the bathroom and a separate toilet can be reached via the hallway. \\n Bedroom 1: 6.64m x 3.29m with wardrobe and access to the roof terrace of 14m². \\nBedroom 2: 4.18m x 3.76m \\n The neat bathroom has a walk-in shower, double sink, towel radiator and washing machine connection. \\n The apartment is offered unfurnished, but with flooring and window coverings. \\nRental price is € 1.500,-- per month \\nService costs are € 50,- per month \\nTotal rent is € 1.550,- per month excluding gas, water, electricity and municipal taxes. \\n The apartment is immediately available. \\n Particularities: \\n \\n Separate meters are still being realized for the apartment, so that the tenant can request g/w/e himself \\n Spacious apartment with two good bedrooms and a lovely roof terrace \\n Rental period is minimum 1 year. After that for an indefinite period of time. \\n Pets are not allowed. \\n You can park the car with a parking permit in front of the door', None, 'Flat', 'C', 'Present (14 m²)', 'For rent: Flat Cornelis Pronklaan 44 B in Alkmaar', 'https://www.pararius.com/apartment-for-rent/alkmaar/7099d219/cornelis-pronklaan', 'Upholstered', Decimal('88'), 1, 2, 3, '21-11-2024', None, Decimal('1500'), 'Mezzanine, Apartment', None, None, None, 'Rented under option', 2016)\n",
      "('1811 JN (Binnenstad-West)', 'Find your room', 'https://www.pararius.com/real-estate-agents/leiden/find-your-room', '05-12-2024', 'Not present', 'Existing building', Decimal('2000'), 'Description \\n\\n                                                         Nice apartment in Alkmaar center with 1 living room and 1 bedroom. The bathroom is equipped with all necessities. Public transport and shops are close by.', None, 'Flat', 'A', 'Not present', 'For rent: Flat Houttil in Alkmaar', 'https://www.pararius.com/apartment-for-rent/alkmaar/97cfb098/houttil', 'Upholstered', Decimal('50'), None, 1, 2, '03-12-2024', None, Decimal('1600'), 'Gallery flat', 'Unlimited period', 'Includes: Service costs', None, 'For rent', 1980)\n",
      "('1814 GA (Nassaukwartier en Hout)', 'Wolf Rentals', 'https://www.pararius.com/real-estate-agents/haarlem/wolf-rentals', '05-12-2024', 'Not present', 'Existing building', None, 'Description \\n\\n                                                         Short stay apartments available; \\n Living at the edge of the city of Alkmaar in a brand new renovated monumental building near arterial roads, Alkmaar centre, trains to Amsterdam. The maximum stay is 6 (six) months. Please do not hesitate to contact us via e-mail. Our team will be happy to help you discuss the possibilities. \\n The pictures are random picutres from the apartments. \\n Layout per apartment: \\n Living area \\nA comfortable sitting and dining area. The style of the living area may vary slightly from one unit to another. The living area includes a sofa bed, TV, dining table with chairs, curtains etc etc. \\n Kitchen- \\nthe kitchen is fully equipped including a dishwasher, fridge freezer, electric cooker, combi microwave and oven, coffee machine and kettle, in addition to pots and pans, plates, glasses and cutlery. \\n Washer and dryer \\nThere is a washing machine/dryer combination in the apartment. \\n Smoking \\nall studios are non-smoking. Smoking is only allowed in the allocated locations. \\n Pets \\nPets are not allowed. \\n Details: \\n - central location \\n- near train station \\n- available for maximum 6 months \\n- maximum 2 persons (families for the 3 bedroom apartments) \\n- near city centre \\n- available per 1st of December 2024 \\n- deposit 1 month', 'Minimum of 1 months', 'Flat', 'A', 'Not present', 'For rent: Flat Kennemerstraatweg 21 G in Alkmaar', 'https://www.pararius.com/apartment-for-rent/alkmaar/9baacbf4/kennemerstraatweg', 'Upholstered or furnished', Decimal('62'), 1, 2, 3, '05-12-2024', None, Decimal('1600'), 'Upstairs apartment, Apartment', 'Temporary rental', 'Includes: Electricity, Gas, Water', None, 'For rent', 2024)\n",
      "('1823 JB (Overstad)', 'IJisberg Real Estate', 'https://www.pararius.com/real-estate-agents/amsterdam/ijisberg-real-estate', '05-12-2024', 'Present', 'Existing building', None, 'Description \\n\\n                                                         Lovely upholstered apartment with garden for rent in Alkmaar with 2 bedrooms in the Overstad district.', None, 'Flat', 'A+', 'Present', 'For rent: Flat Fabriekserf 14 in Alkmaar', 'https://www.pararius.com/apartment-for-rent/alkmaar/ab86e668/fabriekserf', 'Upholstered', Decimal('87'), None, 2, 3, '28-11-2024', None, Decimal('1500'), 'Upstairs apartment, Apartment', None, 'Excludes: Service costs', None, 'For rent', 1925)\n",
      "('1815 TD (Spoorbuurt)', 'F.E. Real Estate', 'https://www.pararius.com/real-estate-agents/amsterdam/f-e-real-estate', None, 'Not present', 'Existing building', None, \"Description \\n\\n                                                         Unique Opportunity: Spacious, Characterful Corner Apartment in the Heart of Alkmaar, Just a 2-Minute Walk from Alkmaar Central Station \\n This fully renovated, double-level corner apartment offers a harmonious blend of modern comfort and authentic charm. Its prime corner location ensures abundant natural light and an open view of the station. Renovated in 2023 with a focus on luxury and sustainability, the property now features underfloor heating, a completely updated kitchen, and enhanced insulation. \\n Inside, the stylish and spacious layout immediately stands out. The two generously sized bedrooms provide ample space, with one featuring a stunning freestanding bathtub, adding a touch of luxury. The bright living room, adorned with high ornamental ceilings, exudes character and elegance. The kitchen has also been completely modernized and is equipped with state-of-the-art appliances, including a dishwasher, a luxury countertop, and a sleek SMEG induction cooktop, making cooking a true pleasure. \\n The bathroom is fresh and contemporary, featuring a walk-in shower, a sink, and a toilet. For added convenience, there is an additional separate toilet on the first floor. \\n Location and Accessibility: \\nSituated in the vibrant Spoorbuurt neighborhood, the property is within walking distance of both the NS train station and Alkmaar’s historic city center. Supermarkets, shops, and restaurants are all nearby, ensuring convenience at every turn. Excellent public transport connections mean you can reach Amsterdam in just 30 minutes. The A9 highway to Amsterdam and Haarlem is also easily accessible. \\n Key Features: \\nRenovated in 2023 \\nFurnished rental, including a washing machine and dryer \\nEquipped with underfloor heating \\nParking permit available immediately (no waiting list in Spoorbuurt) \\nCentral location: on the edge of Alkmaar's city center and just steps from the train station \\nThis property offers a unique combination of style, comfort, and accessibility. Perfect for anyone seeking modern living in a characterful setting! \\n Rent: €1850/month \\nDeposit: 2 months' rent \\nAvailability: Immediately\", None, 'Flat', 'C', 'Not present', 'For rent: Flat Stationstraat in Alkmaar', 'https://www.pararius.com/apartment-for-rent/alkmaar/e45e35e6/stationstraat', None, Decimal('100'), None, 2, 3, '21-11-2024', None, Decimal('1850'), 'Semi-detached house, Apartment', None, None, None, 'For rent', 1909)\n",
      "('7607 CN (Binnenstad Noord)', 'VerhuurPro Almelo', 'https://www.pararius.com/real-estate-agents/almelo/verhuurpro-almelo', '01-01-2025', 'Present', 'Existing building', Decimal('2500'), 'Description \\n\\n                                                         Beautiful furnished apartment with balcony for rent in Almelo with 1 bedroom in the Binnenstad Noord district.', None, 'Flat', 'A+++', None, 'For rent: Flat Grotestraat 30 in Almelo', 'https://www.pararius.com/apartment-for-rent/almelo/892c3fae/grotestraat', 'Furnished', Decimal('70'), 1, 1, 2, '05-12-2024', None, Decimal('1200'), 'Maisonette, Apartment', None, None, None, 'For rent', 2023)\n",
      "('7601 VA (Bornsestraat Midden-Riet Noord)', 'VerhuurPro Almelo', 'https://www.pararius.com/real-estate-agents/almelo/verhuurpro-almelo', '01-01-2025', 'Present', 'Existing building', Decimal('900'), 'Description \\n\\n                                                         Nice apartment with balcony for rent in Almelo with 1 bedroom in the Bornsestraat Midden-Riet Noord district.', None, 'Flat', 'C', None, 'For rent: Flat Lisdodde 18 in Almelo', 'https://www.pararius.com/apartment-for-rent/almelo/e232c3c0/lisdodde', 'Shell', Decimal('51'), None, 1, 2, '05-12-2024', None, Decimal('900'), 'Upstairs apartment, Apartment', None, None, None, 'For rent', 1982)\n"
     ]
    }
   ],
   "source": [
    "table_name = \"house\"\n",
    "cursor.execute(f\"SELECT * FROM {table_name} LIMIT 10\")  # Limit to 10 rows for quick inspection\n",
    "rows = cursor.fetchall()\n",
    "for row in rows:\n",
    "    print(row)"
   ]
  }
 ],
 "metadata": {
  "kernelspec": {
   "display_name": "venv",
   "language": "python",
   "name": "python3"
  },
  "language_info": {
   "codemirror_mode": {
    "name": "ipython",
    "version": 3
   },
   "file_extension": ".py",
   "mimetype": "text/x-python",
   "name": "python",
   "nbconvert_exporter": "python",
   "pygments_lexer": "ipython3",
   "version": "3.10.4"
  }
 },
 "nbformat": 4,
 "nbformat_minor": 2
}
